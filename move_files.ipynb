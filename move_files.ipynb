{
 "cells": [
  {
   "cell_type": "code",
   "execution_count": 65,
   "id": "aae9b7f7-929f-4ff1-bcb5-84ca5e5c317f",
   "metadata": {},
   "outputs": [],
   "source": [
    "import os\n",
    "import shutil\n",
    "import zipfile\n",
    "import pandas as pd"
   ]
  },
  {
   "cell_type": "markdown",
   "id": "cedc2624-a2de-4201-909a-ddc4497c811a",
   "metadata": {},
   "source": [
    "### 압축 파일 해제 및 파일 경로 변경"
   ]
  },
  {
   "cell_type": "code",
   "execution_count": 41,
   "id": "e5097905-8ebd-4836-9ee8-e228f55952a0",
   "metadata": {},
   "outputs": [],
   "source": [
    "def unzip_and_move(target):\n",
    "    data_path = os.path.join(os.getcwd(), 'data')\n",
    "    \n",
    "    csv_file_path = os.path.join(data_path, target)\n",
    "    zip_path = os.path.join(data_path, 'zip_files')\n",
    "    zip_file_path = os.path.join(zip_path, target)\n",
    "    \n",
    "    zip_files = os.listdir(zip_file_path)\n",
    "    \n",
    "    try:\n",
    "        zip_files.remove('.DS_Store')\n",
    "    except:\n",
    "        pass\n",
    "    \n",
    "    for zip_filename in zip_files:\n",
    "        zip_file = os.path.join(zip_file_path, zip_filename)\n",
    "    \n",
    "        extract_folder = os.path.join(csv_file_path, zip_filename.split('.')[1])  # 압축 해제 폴더명 (ZIP 파일 이름을 폴더 이름으로 사용)\n",
    "    \n",
    "        # 압축 해제\n",
    "        with zipfile.ZipFile(zip_file, 'r') as zip_ref:\n",
    "            zip_ref.extractall(extract_folder)\n",
    "        \n",
    "        # 압축 해제된 파일을 타겟 폴더로 이동\n",
    "        for filename in os.listdir(extract_folder):\n",
    "            shutil.move(os.path.join(extract_folder, filename), csv_file_path)\n",
    "        \n",
    "        os.rmdir(extract_folder)  # 빈 폴더 삭제"
   ]
  },
  {
   "cell_type": "code",
   "execution_count": null,
   "id": "93d2b9e9-ceac-4b5e-831f-3cd887f3db6a",
   "metadata": {
    "scrolled": true
   },
   "outputs": [],
   "source": [
    "unzip_and_move('travel_spending')"
   ]
  },
  {
   "cell_type": "code",
   "execution_count": 42,
   "id": "7254e027-24de-47ba-b60f-980ba6bb5cfb",
   "metadata": {},
   "outputs": [],
   "source": [
    "unzip_and_move('stay_duration')"
   ]
  },
  {
   "cell_type": "markdown",
   "id": "8573d7d7-8318-4b3a-9a15-648a285fe36b",
   "metadata": {},
   "source": [
    "### 올바르게 압축해제 되었는지 확인"
   ]
  },
  {
   "cell_type": "code",
   "execution_count": 80,
   "id": "dd7f97cd-e90a-4f54-bee2-8307f94d52da",
   "metadata": {},
   "outputs": [],
   "source": [
    "def is_ok(target):\n",
    "    cities = 17\n",
    "    periods = 9\n",
    "    num_files = cities * periods\n",
    "    \n",
    "    data_path = os.path.join(os.getcwd(), 'data')\n",
    "    target_path = os.path.join(data_path, target)\n",
    "    files = os.listdir(target_path)\n",
    "    \n",
    "    if '.DS_Store' in files:\n",
    "        files.remove('.DS_Store')\n",
    "\n",
    "    print('-'*10, target, '-'*10)\n",
    "        \n",
    "    print(f'파일 수: {len(files)}')\n",
    "    print(f'중복 파일 수: {len(files) - len(set(files))}')\n",
    "    print('-'*30)\n",
    "    \n",
    "    file_ids = list(map(lambda x: x.split('_')[0][8:], files))\n",
    "    file_cats = list(map(lambda x: '_'.join(x.split('_')[1:])[:-4], files))\n",
    "    \n",
    "    print(f'파일 다운로드 횟수: {len(set(file_ids))} \\n파일 종류: {len(set(file_cats))}')\n",
    "    print('-'*30)\n",
    "    \n",
    "    file_df = pd.DataFrame({'파일명': files,\n",
    "                            '파일id': file_ids,\n",
    "                            '파일종류': file_cats})\n",
    "    \n",
    "    x = set(file_df.groupby('파일id')['파일명'].nunique())\n",
    "    y = set(file_df.groupby('파일종류')['파일id'].nunique())\n",
    "    \n",
    "    print(f'파일 ID별 파일의 수: {x}')\n",
    "    print(f'파일 종류별 파일 ID 수: {y}')\n",
    "    print('-'*30)\n",
    "    print('\\n')"
   ]
  },
  {
   "cell_type": "code",
   "execution_count": 81,
   "id": "e2f4629b-7462-42cb-afe9-50a289b18c03",
   "metadata": {},
   "outputs": [
    {
     "name": "stdout",
     "output_type": "stream",
     "text": [
      "---------- travel_spending ----------\n",
      "파일 수: 1224\n",
      "중복 파일 수: 0\n",
      "------------------------------\n",
      "파일 다운로드 횟수: 153 \n",
      "파일 종류: 8\n",
      "------------------------------\n",
      "파일 ID별 파일의 수: {8}\n",
      "파일 종류별 파일 ID 수: {153}\n",
      "------------------------------\n",
      "\n",
      "\n",
      "---------- stay_duration ----------\n",
      "파일 수: 1224\n",
      "중복 파일 수: 0\n",
      "------------------------------\n",
      "파일 다운로드 횟수: 153 \n",
      "파일 종류: 8\n",
      "------------------------------\n",
      "파일 ID별 파일의 수: {8}\n",
      "파일 종류별 파일 ID 수: {153}\n",
      "------------------------------\n",
      "\n",
      "\n"
     ]
    }
   ],
   "source": [
    "is_ok('travel_spending')\n",
    "is_ok('stay_duration')"
   ]
  }
 ],
 "metadata": {
  "kernelspec": {
   "display_name": "Python 3 (ipykernel)",
   "language": "python",
   "name": "python3"
  },
  "language_info": {
   "codemirror_mode": {
    "name": "ipython",
    "version": 3
   },
   "file_extension": ".py",
   "mimetype": "text/x-python",
   "name": "python",
   "nbconvert_exporter": "python",
   "pygments_lexer": "ipython3",
   "version": "3.11.0"
  }
 },
 "nbformat": 4,
 "nbformat_minor": 5
}
